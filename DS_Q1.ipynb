{
 "cells": [
  {
   "cell_type": "code",
   "execution_count": 1,
   "metadata": {},
   "outputs": [],
   "source": [
    "import pandas as pd\n",
    "import matplotlib.pyplot as plt\n",
    "import numpy as np\n",
    "import random\n",
    "from IPython.display import display \n",
    "import math as m\n",
    "from pandas import DataFrame\n",
    "from matplotlib.pyplot import figure"
   ]
  },
  {
   "cell_type": "code",
   "execution_count": 2,
   "metadata": {},
   "outputs": [],
   "source": [
    "df1 = pd.read_csv('encounter.csv')\n",
    "df2 = pd.read_csv('encounter_dx.csv')\n",
    "df3 = pd.read_csv('lab_results.csv')\n",
    "df4 = pd.read_csv('medication_fulfillment.csv')"
   ]
  },
  {
   "cell_type": "code",
   "execution_count": 9,
   "metadata": {},
   "outputs": [
    {
     "name": "stdout",
     "output_type": "stream",
     "text": [
      "(5447, 28)\n",
      "(3063, 6)\n",
      "(7509, 21)\n",
      "(1176, 17)\n"
     ]
    }
   ],
   "source": [
    "print(df1.shape)\n",
    "print(df2.shape)\n",
    "print(df3.shape)\n",
    "print(df4.shape)"
   ]
  },
  {
   "cell_type": "code",
   "execution_count": 11,
   "metadata": {},
   "outputs": [
    {
     "name": "stdout",
     "output_type": "stream",
     "text": [
      "Index(['Provider_Org', 'Encounter_ID', 'Member_ID', 'Provider_ID',\n",
      "       'Provider_NPI', 'Clinic_ID', 'Encounter_DateTime',\n",
      "       'Encounter_Description', 'CC', 'Episode_ID', 'Patient_DOB',\n",
      "       'Patient_Gender', 'Provider_Name', 'Specialty', 'Clinic_Type',\n",
      "       'lab_orders_count', 'lab_results_count', 'medication_orders_count',\n",
      "       'medication_fulfillment_count', 'vital_sign_count',\n",
      "       'therapy_orders_count', 'therapy_actions_count', 'immunization_count',\n",
      "       'Has_Appt', 'SOAP_Note', 'consult_ordered', 'Disposition'],\n",
      "      dtype='object')\n",
      "Index(['Provider_Org', 'code', 'vocab', 'description', 'severity',\n",
      "       'Encounter_ID'],\n",
      "      dtype='object')\n",
      "Index(['Provider_Org', 'Member_ID', 'Date_Collected', 'Test_ID', 'Specialty',\n",
      "       'Panel', 'Test_LOINC', 'Test_Name', 'Date_Resulted', 'Specimen',\n",
      "       'Result_LOINC', 'Result_Name', 'Result_Status', 'Result_Description',\n",
      "       'Numeric_Result', 'Units', 'Abnormal_Value', 'Reference_Range',\n",
      "       'Order_ID', 'Provider_ID', 'Encounter_ID'],\n",
      "      dtype='object')\n",
      "Index(['Provider_Org', 'Order_ID', 'Member_ID', 'Prescription',\n",
      "       'Pharmacist_ID', 'Pharmacy_Name', 'Dispense_Date', 'Drug_Name',\n",
      "       'Drug_NDC', 'Sig', 'Dispense_Qty', 'Fill_No', 'Fill_Status', 'Dose',\n",
      "       'Units', 'Days_Of_Supply', 'Encounter_ID'],\n",
      "      dtype='object')\n"
     ]
    }
   ],
   "source": [
    "df1.drop(['Facility_Name'],axis=1,inplace=True)\n",
    "print(df1.columns)\n",
    "print(df2.columns)\n",
    "print(df3.columns)\n",
    "print(df4.columns)"
   ]
  },
  {
   "cell_type": "code",
   "execution_count": 12,
   "metadata": {},
   "outputs": [
    {
     "name": "stdout",
     "output_type": "stream",
     "text": [
      "5447\n",
      "2717\n",
      "2941\n",
      "1170\n"
     ]
    }
   ],
   "source": [
    "print(df1['Encounter_ID'].nunique())\n",
    "print(df2['Encounter_ID'].nunique())\n",
    "print(df3['Encounter_ID'].nunique())\n",
    "print(df4['Encounter_ID'].nunique())"
   ]
  },
  {
   "cell_type": "code",
   "execution_count": 29,
   "metadata": {},
   "outputs": [
    {
     "name": "stdout",
     "output_type": "stream",
     "text": [
      "(833, 68)\n"
     ]
    },
    {
     "name": "stderr",
     "output_type": "stream",
     "text": [
      "C:\\Users\\pirth\\AppData\\Local\\Temp\\ipykernel_7228\\4154924689.py:3: FutureWarning: Passing 'suffixes' which cause duplicate columns {'Provider_Org_x'} in the result is deprecated and will raise a MergeError in a future version.\n",
      "  df1234 = pd.merge(df123, df4, how='inner', on=['Encounter_ID'])\n"
     ]
    }
   ],
   "source": [
    "df12 = pd.merge(df1, df2, how='inner', on=['Encounter_ID'])\n",
    "df123 = pd.merge(df12, df3, how='inner', on=['Encounter_ID'])\n",
    "df1234 = pd.merge(df123, df4, how='inner', on=['Encounter_ID'])\n",
    "print(df1234.shape)"
   ]
  },
  {
   "cell_type": "code",
   "execution_count": 30,
   "metadata": {},
   "outputs": [
    {
     "data": {
      "text/html": [
       "<div>\n",
       "<style scoped>\n",
       "    .dataframe tbody tr th:only-of-type {\n",
       "        vertical-align: middle;\n",
       "    }\n",
       "\n",
       "    .dataframe tbody tr th {\n",
       "        vertical-align: top;\n",
       "    }\n",
       "\n",
       "    .dataframe thead th {\n",
       "        text-align: right;\n",
       "    }\n",
       "</style>\n",
       "<table border=\"1\" class=\"dataframe\">\n",
       "  <thead>\n",
       "    <tr style=\"text-align: right;\">\n",
       "      <th></th>\n",
       "      <th>Provider_Org_x</th>\n",
       "      <th>Encounter_ID</th>\n",
       "      <th>Member_ID_x</th>\n",
       "      <th>Provider_ID_x</th>\n",
       "      <th>Provider_NPI</th>\n",
       "      <th>Clinic_ID</th>\n",
       "      <th>Encounter_DateTime</th>\n",
       "      <th>Encounter_Description</th>\n",
       "      <th>CC</th>\n",
       "      <th>Patient_DOB</th>\n",
       "      <th>...</th>\n",
       "      <th>Dispense_Date</th>\n",
       "      <th>Drug_Name</th>\n",
       "      <th>Drug_NDC</th>\n",
       "      <th>Sig</th>\n",
       "      <th>Dispense_Qty</th>\n",
       "      <th>Fill_No</th>\n",
       "      <th>Fill_Status</th>\n",
       "      <th>Dose</th>\n",
       "      <th>Units_y</th>\n",
       "      <th>Days_Of_Supply</th>\n",
       "    </tr>\n",
       "  </thead>\n",
       "  <tbody>\n",
       "    <tr>\n",
       "      <th>0</th>\n",
       "      <td>ExactData Medical Health System</td>\n",
       "      <td>C2819614934032019919</td>\n",
       "      <td>937650000-01</td>\n",
       "      <td>581395544</td>\n",
       "      <td>2463742680</td>\n",
       "      <td>Family Health</td>\n",
       "      <td>2005-03-12T04:07:00Z</td>\n",
       "      <td>Alexa visited emergency clinic on 3/11/2005 11...</td>\n",
       "      <td>critical dyspnea</td>\n",
       "      <td>02/07/1973</td>\n",
       "      <td>...</td>\n",
       "      <td>2005-03-12T04:37:00Z</td>\n",
       "      <td>OMS 50</td>\n",
       "      <td>65689-001-21</td>\n",
       "      <td>via nasal cannula (contin)</td>\n",
       "      <td>4320</td>\n",
       "      <td>1</td>\n",
       "      <td>dispensed</td>\n",
       "      <td>6</td>\n",
       "      <td>h</td>\n",
       "      <td>1</td>\n",
       "    </tr>\n",
       "    <tr>\n",
       "      <th>1</th>\n",
       "      <td>ExactData Medical Health System</td>\n",
       "      <td>C2819614934032019919</td>\n",
       "      <td>937650000-01</td>\n",
       "      <td>581395544</td>\n",
       "      <td>2463742680</td>\n",
       "      <td>Family Health</td>\n",
       "      <td>2005-03-12T04:07:00Z</td>\n",
       "      <td>Alexa visited emergency clinic on 3/11/2005 11...</td>\n",
       "      <td>critical dyspnea</td>\n",
       "      <td>02/07/1973</td>\n",
       "      <td>...</td>\n",
       "      <td>2005-03-12T04:37:00Z</td>\n",
       "      <td>OMS 50</td>\n",
       "      <td>65689-001-21</td>\n",
       "      <td>via nasal cannula (contin)</td>\n",
       "      <td>4320</td>\n",
       "      <td>1</td>\n",
       "      <td>dispensed</td>\n",
       "      <td>6</td>\n",
       "      <td>h</td>\n",
       "      <td>1</td>\n",
       "    </tr>\n",
       "    <tr>\n",
       "      <th>2</th>\n",
       "      <td>ExactData Medical Health System</td>\n",
       "      <td>C2819614934032019919</td>\n",
       "      <td>937650000-01</td>\n",
       "      <td>581395544</td>\n",
       "      <td>2463742680</td>\n",
       "      <td>Family Health</td>\n",
       "      <td>2005-03-12T04:07:00Z</td>\n",
       "      <td>Alexa visited emergency clinic on 3/11/2005 11...</td>\n",
       "      <td>critical dyspnea</td>\n",
       "      <td>02/07/1973</td>\n",
       "      <td>...</td>\n",
       "      <td>2005-03-12T04:37:00Z</td>\n",
       "      <td>OMS 50</td>\n",
       "      <td>65689-001-21</td>\n",
       "      <td>via nasal cannula (contin)</td>\n",
       "      <td>4320</td>\n",
       "      <td>1</td>\n",
       "      <td>dispensed</td>\n",
       "      <td>6</td>\n",
       "      <td>h</td>\n",
       "      <td>1</td>\n",
       "    </tr>\n",
       "    <tr>\n",
       "      <th>3</th>\n",
       "      <td>ExactData Medical Health System</td>\n",
       "      <td>C2819614934032019919</td>\n",
       "      <td>937650000-01</td>\n",
       "      <td>581395544</td>\n",
       "      <td>2463742680</td>\n",
       "      <td>Family Health</td>\n",
       "      <td>2005-03-12T04:07:00Z</td>\n",
       "      <td>Alexa visited emergency clinic on 3/11/2005 11...</td>\n",
       "      <td>critical dyspnea</td>\n",
       "      <td>02/07/1973</td>\n",
       "      <td>...</td>\n",
       "      <td>2005-03-12T04:37:00Z</td>\n",
       "      <td>OMS 50</td>\n",
       "      <td>65689-001-21</td>\n",
       "      <td>via nasal cannula (contin)</td>\n",
       "      <td>4320</td>\n",
       "      <td>1</td>\n",
       "      <td>dispensed</td>\n",
       "      <td>6</td>\n",
       "      <td>h</td>\n",
       "      <td>1</td>\n",
       "    </tr>\n",
       "    <tr>\n",
       "      <th>4</th>\n",
       "      <td>ExactData Medical Health System</td>\n",
       "      <td>P9990076421211777089</td>\n",
       "      <td>666867671-01</td>\n",
       "      <td>914123999</td>\n",
       "      <td>1975912682</td>\n",
       "      <td>Harvey Trauma Center</td>\n",
       "      <td>2005-09-13T16:41:00Z</td>\n",
       "      <td>Knox visited emergency clinic on 9/13/2005 11:...</td>\n",
       "      <td>moderate weak urinary stream</td>\n",
       "      <td>04/20/1948</td>\n",
       "      <td>...</td>\n",
       "      <td>2005-09-13T17:11:00Z</td>\n",
       "      <td>glyburide</td>\n",
       "      <td>0093-8342-01</td>\n",
       "      <td>daily</td>\n",
       "      <td>30</td>\n",
       "      <td>1</td>\n",
       "      <td>dispensed</td>\n",
       "      <td>5</td>\n",
       "      <td>mg</td>\n",
       "      <td>30</td>\n",
       "    </tr>\n",
       "  </tbody>\n",
       "</table>\n",
       "<p>5 rows × 67 columns</p>\n",
       "</div>"
      ],
      "text/plain": [
       "                    Provider_Org_x          Encounter_ID   Member_ID_x  \\\n",
       "0  ExactData Medical Health System  C2819614934032019919  937650000-01   \n",
       "1  ExactData Medical Health System  C2819614934032019919  937650000-01   \n",
       "2  ExactData Medical Health System  C2819614934032019919  937650000-01   \n",
       "3  ExactData Medical Health System  C2819614934032019919  937650000-01   \n",
       "4  ExactData Medical Health System  P9990076421211777089  666867671-01   \n",
       "\n",
       "   Provider_ID_x  Provider_NPI             Clinic_ID    Encounter_DateTime  \\\n",
       "0      581395544    2463742680         Family Health  2005-03-12T04:07:00Z   \n",
       "1      581395544    2463742680         Family Health  2005-03-12T04:07:00Z   \n",
       "2      581395544    2463742680         Family Health  2005-03-12T04:07:00Z   \n",
       "3      581395544    2463742680         Family Health  2005-03-12T04:07:00Z   \n",
       "4      914123999    1975912682  Harvey Trauma Center  2005-09-13T16:41:00Z   \n",
       "\n",
       "                               Encounter_Description  \\\n",
       "0  Alexa visited emergency clinic on 3/11/2005 11...   \n",
       "1  Alexa visited emergency clinic on 3/11/2005 11...   \n",
       "2  Alexa visited emergency clinic on 3/11/2005 11...   \n",
       "3  Alexa visited emergency clinic on 3/11/2005 11...   \n",
       "4  Knox visited emergency clinic on 9/13/2005 11:...   \n",
       "\n",
       "                             CC Patient_DOB  ...         Dispense_Date  \\\n",
       "0              critical dyspnea  02/07/1973  ...  2005-03-12T04:37:00Z   \n",
       "1              critical dyspnea  02/07/1973  ...  2005-03-12T04:37:00Z   \n",
       "2              critical dyspnea  02/07/1973  ...  2005-03-12T04:37:00Z   \n",
       "3              critical dyspnea  02/07/1973  ...  2005-03-12T04:37:00Z   \n",
       "4  moderate weak urinary stream  04/20/1948  ...  2005-09-13T17:11:00Z   \n",
       "\n",
       "   Drug_Name      Drug_NDC                         Sig  Dispense_Qty  Fill_No  \\\n",
       "0     OMS 50  65689-001-21  via nasal cannula (contin)          4320        1   \n",
       "1     OMS 50  65689-001-21  via nasal cannula (contin)          4320        1   \n",
       "2     OMS 50  65689-001-21  via nasal cannula (contin)          4320        1   \n",
       "3     OMS 50  65689-001-21  via nasal cannula (contin)          4320        1   \n",
       "4  glyburide  0093-8342-01                       daily            30        1   \n",
       "\n",
       "   Fill_Status  Dose  Units_y  Days_Of_Supply  \n",
       "0    dispensed     6        h               1  \n",
       "1    dispensed     6        h               1  \n",
       "2    dispensed     6        h               1  \n",
       "3    dispensed     6        h               1  \n",
       "4    dispensed     5       mg              30  \n",
       "\n",
       "[5 rows x 67 columns]"
      ]
     },
     "execution_count": 30,
     "metadata": {},
     "output_type": "execute_result"
    }
   ],
   "source": [
    "df1234.drop(['Episode_ID'], axis=1, inplace=True)\n",
    "df1234.head()"
   ]
  },
  {
   "cell_type": "code",
   "execution_count": 32,
   "metadata": {},
   "outputs": [],
   "source": [
    "df1234.to_csv('merged.csv')"
   ]
  },
  {
   "cell_type": "code",
   "execution_count": null,
   "metadata": {},
   "outputs": [],
   "source": [
    "train_dataset = pd.read_csv('k_means.txt', sep=\" \" , header = None, dtype = 'float64')\n",
    "train_dataset = np.array(train_dataset)\n",
    "train_dataset"
   ]
  },
  {
   "cell_type": "code",
   "execution_count": null,
   "metadata": {},
   "outputs": [],
   "source": [
    "df = DataFrame(dict(x=train_dataset[:,0],y=train_dataset[:,1]))\n",
    "fig,ax = plt.subplots(figsize = (8,8))\n",
    "df.plot(ax=ax, kind = 'scatter',x='x',y='y')\n",
    "plt.xlabel('x')\n",
    "plt.ylabel('y')\n",
    "plt.show()"
   ]
  },
  {
   "cell_type": "code",
   "execution_count": null,
   "metadata": {},
   "outputs": [],
   "source": [
    "k = int(input())"
   ]
  },
  {
   "cell_type": "code",
   "execution_count": null,
   "metadata": {},
   "outputs": [],
   "source": [
    "centroid = []\n",
    "for i in range(k):\n",
    "    a = []\n",
    "    a.append(train_dataset[i][0])\n",
    "    a.append(train_dataset[i][1])\n",
    "    centroid.append(a)\n",
    "centroid = np.array(centroid)\n",
    "centroid"
   ]
  },
  {
   "cell_type": "code",
   "execution_count": null,
   "metadata": {},
   "outputs": [],
   "source": [
    "total = []\n",
    "for i in range(train_dataset.shape[0]):\n",
    "    temp = []\n",
    "    storeSmallValueForCentroid_a = 2147483647\n",
    "    storeSmallValueForCentroid_b = ''\n",
    "    for j in range(centroid.shape[0]):\n",
    "        a = m.sqrt((train_dataset[i][0]- centroid[j][0])**2 + (train_dataset[i][1]- centroid[j][1])**2)\n",
    "        b = 'c' + str(j)\n",
    "        if a < storeSmallValueForCentroid_a:\n",
    "            storeSmallValueForCentroid_a = a\n",
    "            storeSmallValueForCentroid_b = b\n",
    "    temp.append(train_dataset[i][0])\n",
    "    temp.append(train_dataset[i][1])\n",
    "    temp.append(storeSmallValueForCentroid_b)\n",
    "    total.append(temp)"
   ]
  },
  {
   "cell_type": "code",
   "execution_count": null,
   "metadata": {},
   "outputs": [],
   "source": [
    "itr = 0\n",
    "while True:\n",
    "    flag = 0\n",
    "    for i in range(k):\n",
    "        x = 0\n",
    "        y = 0\n",
    "        s = 'c'+str(i)\n",
    "        cnt = 0\n",
    "        for j in range(train_dataset.shape[0]):\n",
    "            if total[j][2] == s:\n",
    "                cnt = cnt + 1\n",
    "                x = x + total[j][0]\n",
    "                y = y + total[j][1]\n",
    "        \n",
    "        newCentroid_x = x / cnt\n",
    "        newCentroid_y = y / cnt\n",
    "        centroid[i][0] = newCentroid_x\n",
    "        centroid[i][1] = newCentroid_y\n",
    "        \n",
    "    for i in range(train_dataset.shape[0]):\n",
    "        storeSmallValueForCentroid_a = 2147483647\n",
    "        storeSmallValueForCentroid_b = ''\n",
    "        for j in range(centroid.shape[0]):\n",
    "            a = m.sqrt((total[i][0]- centroid[j][0])**2 + (total[i][1]- centroid[j][1])**2)\n",
    "            b = 'c' + str(j)\n",
    "            if a < storeSmallValueForCentroid_a:\n",
    "                storeSmallValueForCentroid_a = a\n",
    "                storeSmallValueForCentroid_b = b\n",
    "        if storeSmallValueForCentroid_b != total[i][2]:\n",
    "            total[i][2] = storeSmallValueForCentroid_b\n",
    "            flag  = 1\n",
    "    itr = itr + 1\n",
    "    if flag == 0:\n",
    "        break"
   ]
  },
  {
   "cell_type": "code",
   "execution_count": null,
   "metadata": {},
   "outputs": [],
   "source": [
    "color=['#1f77b4','#2ca02c','#ff7f0e','#d62728','m','y','k','#0eeabf','#9467bd','#8c564b','#e377c2','#bcbd22']\n",
    "marker=['.','p','s','^','s','v','+','D','X','P','2','H','3','d','4','5','6','7','8','9','10','11']\n",
    "f, ax = plt.subplots()\n",
    "f.set_figheight(8)\n",
    "f.set_figwidth(12)\n",
    "for i in range(k):\n",
    "    s = 'c'+str(i)\n",
    "    plotingList = []\n",
    "    for j in range(train_dataset.shape[0]):\n",
    "        if total[j][2] == s:\n",
    "            a = []\n",
    "            a.append(total[j][0])\n",
    "            a.append(total[j][1])\n",
    "            plotingList.append(a)\n",
    "    cluster = 'cluster ' + str(i + 1)\n",
    "    plotingList = np.array(plotingList)\n",
    "    ax.scatter(plotingList[:,0],plotingList[:,1],marker=marker[i],color=color[i],label=cluster )\n",
    "\n",
    "ax.legend(loc='upper center')\n",
    "plt.show()"
   ]
  },
  {
   "cell_type": "code",
   "execution_count": null,
   "metadata": {},
   "outputs": [],
   "source": []
  },
  {
   "cell_type": "code",
   "execution_count": null,
   "metadata": {},
   "outputs": [],
   "source": []
  }
 ],
 "metadata": {
  "interpreter": {
   "hash": "9da62871cdc2800116ce41e434e364e09d78d8fa4a97edde24b8339771f34c82"
  },
  "kernelspec": {
   "display_name": "Python 3.8.0 64-bit",
   "language": "python",
   "name": "python3"
  },
  "language_info": {
   "codemirror_mode": {
    "name": "ipython",
    "version": 3
   },
   "file_extension": ".py",
   "mimetype": "text/x-python",
   "name": "python",
   "nbconvert_exporter": "python",
   "pygments_lexer": "ipython3",
   "version": "3.8.0"
  },
  "orig_nbformat": 4
 },
 "nbformat": 4,
 "nbformat_minor": 2
}
